{
 "cells": [
  {
   "cell_type": "code",
   "execution_count": 101,
   "id": "81614e01-0f3b-4648-a7f9-e873f95d2ff0",
   "metadata": {},
   "outputs": [],
   "source": [
    "import pandas as pd\n",
    "import numpy as np\n",
    "import matplotlib.pyplot as plt\n",
    "from sklearn import preprocessing\n",
    "from sklearn.model_selection import train_test_split\n",
    "from sklearn.linear_model import LogisticRegression\n",
    "from sklearn.metrics import accuracy_score"
   ]
  },
  {
   "cell_type": "code",
   "execution_count": 102,
   "id": "b699e92c-8075-41e9-b4b7-6028b23df635",
   "metadata": {},
   "outputs": [
    {
     "name": "stdout",
     "output_type": "stream",
     "text": [
      "   Std deviation  Variance   Maximum   Minimum  Peak-to-Peak  Skewness  \\\n",
      "0       0.012735  0.000162  0.186313 -0.171969      0.358282 -0.532603   \n",
      "1       0.007432  0.000055  0.079500 -0.090181      0.169680  0.116528   \n",
      "2       0.007749  0.000060  0.121004 -0.120699      0.241703  0.672325   \n",
      "3       0.008704  0.000076  0.083162 -0.090181      0.173342  1.426517   \n",
      "4       0.010849  0.000118  0.134432 -0.141756      0.276188 -0.280880   \n",
      "\n",
      "    Kurtosis  First Quartile  Second Quartile  Third Quartile       RMS  \\\n",
      "0  63.053427       -0.002594         0.000153        0.002289  0.012735   \n",
      "1  24.857582       -0.002594        -0.000153        0.002289  0.007433   \n",
      "2  55.858215       -0.002594         0.000153        0.002594  0.007750   \n",
      "3  27.900354       -0.002594        -0.000153        0.002289  0.008705   \n",
      "4  51.282221       -0.002899         0.000153        0.002289  0.010851   \n",
      "\n",
      "   Signal Energy    Entropy  Label  \n",
      "0       0.648755  66.006793      1  \n",
      "1       0.221009  56.099960      1  \n",
      "2       0.240259  59.718305      1  \n",
      "3       0.303127  57.966060      1  \n",
      "4       0.470934  61.178621      1  \n"
     ]
    }
   ],
   "source": [
    "df = pd.read_csv(r\"C:\\Users\\Sounak Banerjee\\Dataset.csv\")\n",
    "df.drop(['File No'], axis=1, inplace=True)\n",
    "print(df.head())"
   ]
  },
  {
   "cell_type": "code",
   "execution_count": 103,
   "id": "a7fe624d-e878-42bf-b38f-c60e63f4ccf2",
   "metadata": {},
   "outputs": [
    {
     "name": "stdout",
     "output_type": "stream",
     "text": [
      "\n",
      "Normalized Data:\n",
      "          0         1         2         3         4         5         6   \\\n",
      "0  0.274702  0.113513  0.270680  0.408046  0.402207  0.342225  0.315610   \n",
      "1  0.111154  0.031224  0.099364  0.716092  0.167047  0.387489  0.124226   \n",
      "2  0.120929  0.034927  0.165932  0.601149  0.256849  0.426245  0.279558   \n",
      "3  0.150387  0.047019  0.105237  0.716092  0.171613  0.478836  0.139472   \n",
      "4  0.216542  0.079292  0.187469  0.521839  0.299848  0.359778  0.256629   \n",
      "\n",
      "         7    8         9         10        11        12   13  \n",
      "0  0.888889  0.8  0.142857  0.274574  0.113473  0.264426  1.0  \n",
      "1  0.888889  0.6  0.142857  0.111052  0.031207  0.164630  1.0  \n",
      "2  0.888889  0.8  0.214286  0.120827  0.034909  0.201079  1.0  \n",
      "3  0.888889  0.6  0.142857  0.150284  0.047000  0.183428  1.0  \n",
      "4  0.833333  0.8  0.142857  0.216445  0.079274  0.215789  1.0  \n"
     ]
    }
   ],
   "source": [
    "min_max_scaler = preprocessing.MinMaxScaler()\n",
    "df_scaled = min_max_scaler.fit_transform(df)\n",
    "df = pd.DataFrame(df_scaled)\n",
    "print(\"\\nNormalized Data:\\n\", df.head())"
   ]
  },
  {
   "cell_type": "code",
   "execution_count": 104,
   "id": "8e0ec7f4-0e23-46c4-9fe0-08544e31e66d",
   "metadata": {},
   "outputs": [
    {
     "name": "stdout",
     "output_type": "stream",
     "text": [
      "X_train:\n",
      "           0         1         2         3         4         5         6   \\\n",
      "243  0.075228  0.018946  0.107685  0.742529  0.164764  0.310971  0.256470   \n",
      "32   0.166652  0.054297  0.179148  0.547126  0.285008  0.311901  0.250433   \n",
      "156  0.089900  0.023708  0.064611  0.857471  0.093227  0.410806  0.052066   \n",
      "723  0.008398  0.001661  0.011258  0.985057  0.009513  0.384143  0.012226   \n",
      "962  0.058715  0.014003  0.010279  0.960920  0.016743  0.373870  0.004686   \n",
      "\n",
      "           7    8         9         10        11        12  \n",
      "243  0.833333  0.6  0.071429  0.075402  0.019015  0.092304  \n",
      "32   0.888889  0.8  0.142857  0.166505  0.054258  0.212972  \n",
      "156  0.833333  0.6  0.142857  0.090036  0.023771  0.153434  \n",
      "723  0.944444  0.6  0.071429  0.008501  0.001684  0.032973  \n",
      "962  0.722222  0.6  0.285714  0.059215  0.014158  0.174851  \n",
      "\n",
      "X_test:\n",
      "            0         1         2         3         4         5         6   \\\n",
      "1209  0.015307  0.003113  0.005874  0.977011  0.007991  0.371977  0.012978   \n",
      "1141  0.011139  0.002228  0.006363  0.975862  0.008752  0.389572  0.012021   \n",
      "422   0.314605  0.140159  0.221243  0.551724  0.316210  0.413269  0.214900   \n",
      "1117  0.012621  0.002539  0.006853  0.979310  0.007991  0.383430  0.014296   \n",
      "848   0.012285  0.002468  0.010279  0.981609  0.009893  0.380184  0.011092   \n",
      "\n",
      "            7    8         9         10        11        12  \n",
      "1209  0.888889  0.6  0.071429  0.015598  0.003179  0.035695  \n",
      "1141  0.888889  0.6  0.071429  0.011136  0.002229  0.047185  \n",
      "422   0.833333  0.6  0.142857  0.314525  0.140147  0.249068  \n",
      "1117  0.944444  0.6  0.071429  0.012692  0.002557  0.039733  \n",
      "848   0.944444  0.6  0.071429  0.012275  0.002469  0.051215  \n",
      "\n",
      "y_train:\n",
      "243    1\n",
      "32     1\n",
      "156    1\n",
      "723    0\n",
      "962    0\n",
      "Name: 13, dtype: int64\n",
      "\n",
      "y_test:\n",
      "1209    0\n",
      "1141    0\n",
      "422     1\n",
      "1117    0\n",
      "848     0\n",
      "Name: 13, dtype: int64\n"
     ]
    },
    {
     "data": {
      "text/html": [
       "<style>#sk-container-id-20 {color: black;}#sk-container-id-20 pre{padding: 0;}#sk-container-id-20 div.sk-toggleable {background-color: white;}#sk-container-id-20 label.sk-toggleable__label {cursor: pointer;display: block;width: 100%;margin-bottom: 0;padding: 0.3em;box-sizing: border-box;text-align: center;}#sk-container-id-20 label.sk-toggleable__label-arrow:before {content: \"▸\";float: left;margin-right: 0.25em;color: #696969;}#sk-container-id-20 label.sk-toggleable__label-arrow:hover:before {color: black;}#sk-container-id-20 div.sk-estimator:hover label.sk-toggleable__label-arrow:before {color: black;}#sk-container-id-20 div.sk-toggleable__content {max-height: 0;max-width: 0;overflow: hidden;text-align: left;background-color: #f0f8ff;}#sk-container-id-20 div.sk-toggleable__content pre {margin: 0.2em;color: black;border-radius: 0.25em;background-color: #f0f8ff;}#sk-container-id-20 input.sk-toggleable__control:checked~div.sk-toggleable__content {max-height: 200px;max-width: 100%;overflow: auto;}#sk-container-id-20 input.sk-toggleable__control:checked~label.sk-toggleable__label-arrow:before {content: \"▾\";}#sk-container-id-20 div.sk-estimator input.sk-toggleable__control:checked~label.sk-toggleable__label {background-color: #d4ebff;}#sk-container-id-20 div.sk-label input.sk-toggleable__control:checked~label.sk-toggleable__label {background-color: #d4ebff;}#sk-container-id-20 input.sk-hidden--visually {border: 0;clip: rect(1px 1px 1px 1px);clip: rect(1px, 1px, 1px, 1px);height: 1px;margin: -1px;overflow: hidden;padding: 0;position: absolute;width: 1px;}#sk-container-id-20 div.sk-estimator {font-family: monospace;background-color: #f0f8ff;border: 1px dotted black;border-radius: 0.25em;box-sizing: border-box;margin-bottom: 0.5em;}#sk-container-id-20 div.sk-estimator:hover {background-color: #d4ebff;}#sk-container-id-20 div.sk-parallel-item::after {content: \"\";width: 100%;border-bottom: 1px solid gray;flex-grow: 1;}#sk-container-id-20 div.sk-label:hover label.sk-toggleable__label {background-color: #d4ebff;}#sk-container-id-20 div.sk-serial::before {content: \"\";position: absolute;border-left: 1px solid gray;box-sizing: border-box;top: 0;bottom: 0;left: 50%;z-index: 0;}#sk-container-id-20 div.sk-serial {display: flex;flex-direction: column;align-items: center;background-color: white;padding-right: 0.2em;padding-left: 0.2em;position: relative;}#sk-container-id-20 div.sk-item {position: relative;z-index: 1;}#sk-container-id-20 div.sk-parallel {display: flex;align-items: stretch;justify-content: center;background-color: white;position: relative;}#sk-container-id-20 div.sk-item::before, #sk-container-id-20 div.sk-parallel-item::before {content: \"\";position: absolute;border-left: 1px solid gray;box-sizing: border-box;top: 0;bottom: 0;left: 50%;z-index: -1;}#sk-container-id-20 div.sk-parallel-item {display: flex;flex-direction: column;z-index: 1;position: relative;background-color: white;}#sk-container-id-20 div.sk-parallel-item:first-child::after {align-self: flex-end;width: 50%;}#sk-container-id-20 div.sk-parallel-item:last-child::after {align-self: flex-start;width: 50%;}#sk-container-id-20 div.sk-parallel-item:only-child::after {width: 0;}#sk-container-id-20 div.sk-dashed-wrapped {border: 1px dashed gray;margin: 0 0.4em 0.5em 0.4em;box-sizing: border-box;padding-bottom: 0.4em;background-color: white;}#sk-container-id-20 div.sk-label label {font-family: monospace;font-weight: bold;display: inline-block;line-height: 1.2em;}#sk-container-id-20 div.sk-label-container {text-align: center;}#sk-container-id-20 div.sk-container {/* jupyter's `normalize.less` sets `[hidden] { display: none; }` but bootstrap.min.css set `[hidden] { display: none !important; }` so we also need the `!important` here to be able to override the default hidden behavior on the sphinx rendered scikit-learn.org. See: https://github.com/scikit-learn/scikit-learn/issues/21755 */display: inline-block !important;position: relative;}#sk-container-id-20 div.sk-text-repr-fallback {display: none;}</style><div id=\"sk-container-id-20\" class=\"sk-top-container\"><div class=\"sk-text-repr-fallback\"><pre>LogisticRegression()</pre><b>In a Jupyter environment, please rerun this cell to show the HTML representation or trust the notebook. <br />On GitHub, the HTML representation is unable to render, please try loading this page with nbviewer.org.</b></div><div class=\"sk-container\" hidden><div class=\"sk-item\"><div class=\"sk-estimator sk-toggleable\"><input class=\"sk-toggleable__control sk-hidden--visually\" id=\"sk-estimator-id-20\" type=\"checkbox\" checked><label for=\"sk-estimator-id-20\" class=\"sk-toggleable__label sk-toggleable__label-arrow\">LogisticRegression</label><div class=\"sk-toggleable__content\"><pre>LogisticRegression()</pre></div></div></div></div></div>"
      ],
      "text/plain": [
       "LogisticRegression()"
      ]
     },
     "execution_count": 104,
     "metadata": {},
     "output_type": "execute_result"
    }
   ],
   "source": [
    "from sklearn.preprocessing import LabelEncoder\n",
    "le = LabelEncoder()\n",
    "df[df.columns[13]] = le.fit_transform(df[df.columns[13]])\n",
    "X = df.drop(df.columns[13], axis=1)\n",
    "y = df[df.columns[13]]\n",
    "\n",
    "X_train, X_test, y_train, y_test = train_test_split(X, y, test_size=0.2, random_state=42)\n",
    "\n",
    "print(\"X_train:\")\n",
    "print(X_train.head())\n",
    "print(\"\\nX_test:\")\n",
    "print(X_test.head())\n",
    "print(\"\\ny_train:\")\n",
    "print(y_train.head())\n",
    "print(\"\\ny_test:\")\n",
    "print(y_test.head())\n",
    "\n",
    "logreg = LogisticRegression()\n",
    "logreg.fit(X_train, y_train)"
   ]
  },
  {
   "cell_type": "code",
   "execution_count": 105,
   "id": "2092eb45-2484-49df-be95-79a826d8c753",
   "metadata": {},
   "outputs": [
    {
     "name": "stdout",
     "output_type": "stream",
     "text": [
      "\n",
      "Accuracy Score:\n",
      " 0.9525691699604744\n"
     ]
    }
   ],
   "source": [
    "y_pred = logreg.predict(X_test)\n",
    "accuracy = accuracy_score(y_test, y_pred)\n",
    "print(\"\\nAccuracy Score:\\n\", accuracy)"
   ]
  },
  {
   "cell_type": "markdown",
   "id": "e2446a25-981a-4eff-b70d-a19a15f46390",
   "metadata": {},
   "source": [
    "### Random Forest"
   ]
  },
  {
   "cell_type": "code",
   "execution_count": 40,
   "id": "630a2857-e5eb-4866-b0cf-85fd0b27391d",
   "metadata": {},
   "outputs": [
    {
     "data": {
      "text/html": [
       "<style>#sk-container-id-7 {color: black;}#sk-container-id-7 pre{padding: 0;}#sk-container-id-7 div.sk-toggleable {background-color: white;}#sk-container-id-7 label.sk-toggleable__label {cursor: pointer;display: block;width: 100%;margin-bottom: 0;padding: 0.3em;box-sizing: border-box;text-align: center;}#sk-container-id-7 label.sk-toggleable__label-arrow:before {content: \"▸\";float: left;margin-right: 0.25em;color: #696969;}#sk-container-id-7 label.sk-toggleable__label-arrow:hover:before {color: black;}#sk-container-id-7 div.sk-estimator:hover label.sk-toggleable__label-arrow:before {color: black;}#sk-container-id-7 div.sk-toggleable__content {max-height: 0;max-width: 0;overflow: hidden;text-align: left;background-color: #f0f8ff;}#sk-container-id-7 div.sk-toggleable__content pre {margin: 0.2em;color: black;border-radius: 0.25em;background-color: #f0f8ff;}#sk-container-id-7 input.sk-toggleable__control:checked~div.sk-toggleable__content {max-height: 200px;max-width: 100%;overflow: auto;}#sk-container-id-7 input.sk-toggleable__control:checked~label.sk-toggleable__label-arrow:before {content: \"▾\";}#sk-container-id-7 div.sk-estimator input.sk-toggleable__control:checked~label.sk-toggleable__label {background-color: #d4ebff;}#sk-container-id-7 div.sk-label input.sk-toggleable__control:checked~label.sk-toggleable__label {background-color: #d4ebff;}#sk-container-id-7 input.sk-hidden--visually {border: 0;clip: rect(1px 1px 1px 1px);clip: rect(1px, 1px, 1px, 1px);height: 1px;margin: -1px;overflow: hidden;padding: 0;position: absolute;width: 1px;}#sk-container-id-7 div.sk-estimator {font-family: monospace;background-color: #f0f8ff;border: 1px dotted black;border-radius: 0.25em;box-sizing: border-box;margin-bottom: 0.5em;}#sk-container-id-7 div.sk-estimator:hover {background-color: #d4ebff;}#sk-container-id-7 div.sk-parallel-item::after {content: \"\";width: 100%;border-bottom: 1px solid gray;flex-grow: 1;}#sk-container-id-7 div.sk-label:hover label.sk-toggleable__label {background-color: #d4ebff;}#sk-container-id-7 div.sk-serial::before {content: \"\";position: absolute;border-left: 1px solid gray;box-sizing: border-box;top: 0;bottom: 0;left: 50%;z-index: 0;}#sk-container-id-7 div.sk-serial {display: flex;flex-direction: column;align-items: center;background-color: white;padding-right: 0.2em;padding-left: 0.2em;position: relative;}#sk-container-id-7 div.sk-item {position: relative;z-index: 1;}#sk-container-id-7 div.sk-parallel {display: flex;align-items: stretch;justify-content: center;background-color: white;position: relative;}#sk-container-id-7 div.sk-item::before, #sk-container-id-7 div.sk-parallel-item::before {content: \"\";position: absolute;border-left: 1px solid gray;box-sizing: border-box;top: 0;bottom: 0;left: 50%;z-index: -1;}#sk-container-id-7 div.sk-parallel-item {display: flex;flex-direction: column;z-index: 1;position: relative;background-color: white;}#sk-container-id-7 div.sk-parallel-item:first-child::after {align-self: flex-end;width: 50%;}#sk-container-id-7 div.sk-parallel-item:last-child::after {align-self: flex-start;width: 50%;}#sk-container-id-7 div.sk-parallel-item:only-child::after {width: 0;}#sk-container-id-7 div.sk-dashed-wrapped {border: 1px dashed gray;margin: 0 0.4em 0.5em 0.4em;box-sizing: border-box;padding-bottom: 0.4em;background-color: white;}#sk-container-id-7 div.sk-label label {font-family: monospace;font-weight: bold;display: inline-block;line-height: 1.2em;}#sk-container-id-7 div.sk-label-container {text-align: center;}#sk-container-id-7 div.sk-container {/* jupyter's `normalize.less` sets `[hidden] { display: none; }` but bootstrap.min.css set `[hidden] { display: none !important; }` so we also need the `!important` here to be able to override the default hidden behavior on the sphinx rendered scikit-learn.org. See: https://github.com/scikit-learn/scikit-learn/issues/21755 */display: inline-block !important;position: relative;}#sk-container-id-7 div.sk-text-repr-fallback {display: none;}</style><div id=\"sk-container-id-7\" class=\"sk-top-container\"><div class=\"sk-text-repr-fallback\"><pre>RandomForestClassifier()</pre><b>In a Jupyter environment, please rerun this cell to show the HTML representation or trust the notebook. <br />On GitHub, the HTML representation is unable to render, please try loading this page with nbviewer.org.</b></div><div class=\"sk-container\" hidden><div class=\"sk-item\"><div class=\"sk-estimator sk-toggleable\"><input class=\"sk-toggleable__control sk-hidden--visually\" id=\"sk-estimator-id-7\" type=\"checkbox\" checked><label for=\"sk-estimator-id-7\" class=\"sk-toggleable__label sk-toggleable__label-arrow\">RandomForestClassifier</label><div class=\"sk-toggleable__content\"><pre>RandomForestClassifier()</pre></div></div></div></div></div>"
      ],
      "text/plain": [
       "RandomForestClassifier()"
      ]
     },
     "execution_count": 40,
     "metadata": {},
     "output_type": "execute_result"
    }
   ],
   "source": [
    "from sklearn.ensemble import RandomForestClassifier\n",
    "rf = RandomForestClassifier()\n",
    "rf.fit(X_train, y_train)"
   ]
  },
  {
   "cell_type": "code",
   "execution_count": 42,
   "id": "cacb7115-b163-4f88-b0e2-dd20828baedb",
   "metadata": {},
   "outputs": [
    {
     "name": "stdout",
     "output_type": "stream",
     "text": [
      "\n",
      "Accuracy Score:\n",
      " 0.9920948616600791\n"
     ]
    }
   ],
   "source": [
    "y_pred = rf.predict(X_test)\n",
    "accuracy = accuracy_score(y_test, y_pred)\n",
    "print(\"\\nAccuracy Score:\\n\", accuracy)"
   ]
  },
  {
   "cell_type": "markdown",
   "id": "81ea3315-1578-465d-8e42-fb337f599e32",
   "metadata": {},
   "source": [
    "### Decision Tree"
   ]
  },
  {
   "cell_type": "code",
   "execution_count": 43,
   "id": "1d33708e-0bbf-456f-8fc4-dbd6ae2f3de7",
   "metadata": {},
   "outputs": [],
   "source": [
    "from sklearn.tree import DecisionTreeClassifier, plot_tree"
   ]
  },
  {
   "cell_type": "code",
   "execution_count": 44,
   "id": "c7330e63-27b2-441d-9007-01f4295b7dd4",
   "metadata": {},
   "outputs": [
    {
     "data": {
      "text/html": [
       "<div>\n",
       "<style scoped>\n",
       "    .dataframe tbody tr th:only-of-type {\n",
       "        vertical-align: middle;\n",
       "    }\n",
       "\n",
       "    .dataframe tbody tr th {\n",
       "        vertical-align: top;\n",
       "    }\n",
       "\n",
       "    .dataframe thead th {\n",
       "        text-align: right;\n",
       "    }\n",
       "</style>\n",
       "<table border=\"1\" class=\"dataframe\">\n",
       "  <thead>\n",
       "    <tr style=\"text-align: right;\">\n",
       "      <th></th>\n",
       "      <th>Std deviation</th>\n",
       "      <th>Variance</th>\n",
       "      <th>Maximum</th>\n",
       "      <th>Minimum</th>\n",
       "      <th>Peak-to-Peak</th>\n",
       "      <th>Skewness</th>\n",
       "      <th>Kurtosis</th>\n",
       "      <th>First Quartile</th>\n",
       "      <th>Second Quartile</th>\n",
       "      <th>Third Quartile</th>\n",
       "      <th>RMS</th>\n",
       "      <th>Signal Energy</th>\n",
       "      <th>Entropy</th>\n",
       "      <th>Label</th>\n",
       "    </tr>\n",
       "  </thead>\n",
       "  <tbody>\n",
       "    <tr>\n",
       "      <th>0</th>\n",
       "      <td>0.012735</td>\n",
       "      <td>0.000162</td>\n",
       "      <td>0.186313</td>\n",
       "      <td>-0.171969</td>\n",
       "      <td>0.358282</td>\n",
       "      <td>-0.532603</td>\n",
       "      <td>63.053427</td>\n",
       "      <td>-0.002594</td>\n",
       "      <td>0.000153</td>\n",
       "      <td>0.002289</td>\n",
       "      <td>0.012735</td>\n",
       "      <td>0.648755</td>\n",
       "      <td>66.006793</td>\n",
       "      <td>1</td>\n",
       "    </tr>\n",
       "    <tr>\n",
       "      <th>1</th>\n",
       "      <td>0.007432</td>\n",
       "      <td>0.000055</td>\n",
       "      <td>0.079500</td>\n",
       "      <td>-0.090181</td>\n",
       "      <td>0.169680</td>\n",
       "      <td>0.116528</td>\n",
       "      <td>24.857582</td>\n",
       "      <td>-0.002594</td>\n",
       "      <td>-0.000153</td>\n",
       "      <td>0.002289</td>\n",
       "      <td>0.007433</td>\n",
       "      <td>0.221009</td>\n",
       "      <td>56.099960</td>\n",
       "      <td>1</td>\n",
       "    </tr>\n",
       "    <tr>\n",
       "      <th>2</th>\n",
       "      <td>0.007749</td>\n",
       "      <td>0.000060</td>\n",
       "      <td>0.121004</td>\n",
       "      <td>-0.120699</td>\n",
       "      <td>0.241703</td>\n",
       "      <td>0.672325</td>\n",
       "      <td>55.858215</td>\n",
       "      <td>-0.002594</td>\n",
       "      <td>0.000153</td>\n",
       "      <td>0.002594</td>\n",
       "      <td>0.007750</td>\n",
       "      <td>0.240259</td>\n",
       "      <td>59.718305</td>\n",
       "      <td>1</td>\n",
       "    </tr>\n",
       "    <tr>\n",
       "      <th>3</th>\n",
       "      <td>0.008704</td>\n",
       "      <td>0.000076</td>\n",
       "      <td>0.083162</td>\n",
       "      <td>-0.090181</td>\n",
       "      <td>0.173342</td>\n",
       "      <td>1.426517</td>\n",
       "      <td>27.900354</td>\n",
       "      <td>-0.002594</td>\n",
       "      <td>-0.000153</td>\n",
       "      <td>0.002289</td>\n",
       "      <td>0.008705</td>\n",
       "      <td>0.303127</td>\n",
       "      <td>57.966060</td>\n",
       "      <td>1</td>\n",
       "    </tr>\n",
       "    <tr>\n",
       "      <th>4</th>\n",
       "      <td>0.010849</td>\n",
       "      <td>0.000118</td>\n",
       "      <td>0.134432</td>\n",
       "      <td>-0.141756</td>\n",
       "      <td>0.276188</td>\n",
       "      <td>-0.280880</td>\n",
       "      <td>51.282221</td>\n",
       "      <td>-0.002899</td>\n",
       "      <td>0.000153</td>\n",
       "      <td>0.002289</td>\n",
       "      <td>0.010851</td>\n",
       "      <td>0.470934</td>\n",
       "      <td>61.178621</td>\n",
       "      <td>1</td>\n",
       "    </tr>\n",
       "  </tbody>\n",
       "</table>\n",
       "</div>"
      ],
      "text/plain": [
       "   Std deviation  Variance   Maximum   Minimum  Peak-to-Peak  Skewness  \\\n",
       "0       0.012735  0.000162  0.186313 -0.171969      0.358282 -0.532603   \n",
       "1       0.007432  0.000055  0.079500 -0.090181      0.169680  0.116528   \n",
       "2       0.007749  0.000060  0.121004 -0.120699      0.241703  0.672325   \n",
       "3       0.008704  0.000076  0.083162 -0.090181      0.173342  1.426517   \n",
       "4       0.010849  0.000118  0.134432 -0.141756      0.276188 -0.280880   \n",
       "\n",
       "    Kurtosis  First Quartile  Second Quartile  Third Quartile       RMS  \\\n",
       "0  63.053427       -0.002594         0.000153        0.002289  0.012735   \n",
       "1  24.857582       -0.002594        -0.000153        0.002289  0.007433   \n",
       "2  55.858215       -0.002594         0.000153        0.002594  0.007750   \n",
       "3  27.900354       -0.002594        -0.000153        0.002289  0.008705   \n",
       "4  51.282221       -0.002899         0.000153        0.002289  0.010851   \n",
       "\n",
       "   Signal Energy    Entropy  Label  \n",
       "0       0.648755  66.006793      1  \n",
       "1       0.221009  56.099960      1  \n",
       "2       0.240259  59.718305      1  \n",
       "3       0.303127  57.966060      1  \n",
       "4       0.470934  61.178621      1  "
      ]
     },
     "execution_count": 44,
     "metadata": {},
     "output_type": "execute_result"
    }
   ],
   "source": [
    "data = pd.read_csv(r\"C:\\Users\\Sounak Banerjee\\Dataset.csv\")\n",
    "data.drop(['File No'], axis=1, inplace=True)\n",
    "data.head()"
   ]
  },
  {
   "cell_type": "code",
   "execution_count": 45,
   "id": "2247cb55-0aa0-4e12-8bc9-b49a5fad566c",
   "metadata": {},
   "outputs": [],
   "source": [
    "target_column = 'Label'\n",
    "le = LabelEncoder()\n",
    "data[target_column] = le.fit_transform(data[target_column])"
   ]
  },
  {
   "cell_type": "code",
   "execution_count": 46,
   "id": "e461ef11-524b-4da2-a446-e9c49ea1b8a8",
   "metadata": {},
   "outputs": [],
   "source": [
    "X = data.drop(target_column, axis=1)\n",
    "y = data[target_column]"
   ]
  },
  {
   "cell_type": "code",
   "execution_count": 47,
   "id": "262b9040-58bd-4811-a6cc-bff319fb8387",
   "metadata": {},
   "outputs": [],
   "source": [
    "X_train, X_test, y_train, y_test = train_test_split(X, y, test_size = 0.25, random_state=42)"
   ]
  },
  {
   "cell_type": "code",
   "execution_count": 66,
   "id": "b1fad4a1-83e6-448f-9168-becf696257fb",
   "metadata": {},
   "outputs": [
    {
     "data": {
      "text/html": [
       "<style>#sk-container-id-16 {color: black;}#sk-container-id-16 pre{padding: 0;}#sk-container-id-16 div.sk-toggleable {background-color: white;}#sk-container-id-16 label.sk-toggleable__label {cursor: pointer;display: block;width: 100%;margin-bottom: 0;padding: 0.3em;box-sizing: border-box;text-align: center;}#sk-container-id-16 label.sk-toggleable__label-arrow:before {content: \"▸\";float: left;margin-right: 0.25em;color: #696969;}#sk-container-id-16 label.sk-toggleable__label-arrow:hover:before {color: black;}#sk-container-id-16 div.sk-estimator:hover label.sk-toggleable__label-arrow:before {color: black;}#sk-container-id-16 div.sk-toggleable__content {max-height: 0;max-width: 0;overflow: hidden;text-align: left;background-color: #f0f8ff;}#sk-container-id-16 div.sk-toggleable__content pre {margin: 0.2em;color: black;border-radius: 0.25em;background-color: #f0f8ff;}#sk-container-id-16 input.sk-toggleable__control:checked~div.sk-toggleable__content {max-height: 200px;max-width: 100%;overflow: auto;}#sk-container-id-16 input.sk-toggleable__control:checked~label.sk-toggleable__label-arrow:before {content: \"▾\";}#sk-container-id-16 div.sk-estimator input.sk-toggleable__control:checked~label.sk-toggleable__label {background-color: #d4ebff;}#sk-container-id-16 div.sk-label input.sk-toggleable__control:checked~label.sk-toggleable__label {background-color: #d4ebff;}#sk-container-id-16 input.sk-hidden--visually {border: 0;clip: rect(1px 1px 1px 1px);clip: rect(1px, 1px, 1px, 1px);height: 1px;margin: -1px;overflow: hidden;padding: 0;position: absolute;width: 1px;}#sk-container-id-16 div.sk-estimator {font-family: monospace;background-color: #f0f8ff;border: 1px dotted black;border-radius: 0.25em;box-sizing: border-box;margin-bottom: 0.5em;}#sk-container-id-16 div.sk-estimator:hover {background-color: #d4ebff;}#sk-container-id-16 div.sk-parallel-item::after {content: \"\";width: 100%;border-bottom: 1px solid gray;flex-grow: 1;}#sk-container-id-16 div.sk-label:hover label.sk-toggleable__label {background-color: #d4ebff;}#sk-container-id-16 div.sk-serial::before {content: \"\";position: absolute;border-left: 1px solid gray;box-sizing: border-box;top: 0;bottom: 0;left: 50%;z-index: 0;}#sk-container-id-16 div.sk-serial {display: flex;flex-direction: column;align-items: center;background-color: white;padding-right: 0.2em;padding-left: 0.2em;position: relative;}#sk-container-id-16 div.sk-item {position: relative;z-index: 1;}#sk-container-id-16 div.sk-parallel {display: flex;align-items: stretch;justify-content: center;background-color: white;position: relative;}#sk-container-id-16 div.sk-item::before, #sk-container-id-16 div.sk-parallel-item::before {content: \"\";position: absolute;border-left: 1px solid gray;box-sizing: border-box;top: 0;bottom: 0;left: 50%;z-index: -1;}#sk-container-id-16 div.sk-parallel-item {display: flex;flex-direction: column;z-index: 1;position: relative;background-color: white;}#sk-container-id-16 div.sk-parallel-item:first-child::after {align-self: flex-end;width: 50%;}#sk-container-id-16 div.sk-parallel-item:last-child::after {align-self: flex-start;width: 50%;}#sk-container-id-16 div.sk-parallel-item:only-child::after {width: 0;}#sk-container-id-16 div.sk-dashed-wrapped {border: 1px dashed gray;margin: 0 0.4em 0.5em 0.4em;box-sizing: border-box;padding-bottom: 0.4em;background-color: white;}#sk-container-id-16 div.sk-label label {font-family: monospace;font-weight: bold;display: inline-block;line-height: 1.2em;}#sk-container-id-16 div.sk-label-container {text-align: center;}#sk-container-id-16 div.sk-container {/* jupyter's `normalize.less` sets `[hidden] { display: none; }` but bootstrap.min.css set `[hidden] { display: none !important; }` so we also need the `!important` here to be able to override the default hidden behavior on the sphinx rendered scikit-learn.org. See: https://github.com/scikit-learn/scikit-learn/issues/21755 */display: inline-block !important;position: relative;}#sk-container-id-16 div.sk-text-repr-fallback {display: none;}</style><div id=\"sk-container-id-16\" class=\"sk-top-container\"><div class=\"sk-text-repr-fallback\"><pre>DecisionTreeClassifier(criterion=&#x27;entropy&#x27;, max_depth=3, random_state=18)</pre><b>In a Jupyter environment, please rerun this cell to show the HTML representation or trust the notebook. <br />On GitHub, the HTML representation is unable to render, please try loading this page with nbviewer.org.</b></div><div class=\"sk-container\" hidden><div class=\"sk-item\"><div class=\"sk-estimator sk-toggleable\"><input class=\"sk-toggleable__control sk-hidden--visually\" id=\"sk-estimator-id-16\" type=\"checkbox\" checked><label for=\"sk-estimator-id-16\" class=\"sk-toggleable__label sk-toggleable__label-arrow\">DecisionTreeClassifier</label><div class=\"sk-toggleable__content\"><pre>DecisionTreeClassifier(criterion=&#x27;entropy&#x27;, max_depth=3, random_state=18)</pre></div></div></div></div></div>"
      ],
      "text/plain": [
       "DecisionTreeClassifier(criterion='entropy', max_depth=3, random_state=18)"
      ]
     },
     "execution_count": 66,
     "metadata": {},
     "output_type": "execute_result"
    }
   ],
   "source": [
    "clf = DecisionTreeClassifier(criterion='entropy', max_depth = 3, random_state = 18)\n",
    "clf.fit(X_train, y_train)"
   ]
  },
  {
   "cell_type": "code",
   "execution_count": 67,
   "id": "e065cb36-eef6-46af-b087-645e56bb3484",
   "metadata": {},
   "outputs": [
    {
     "name": "stdout",
     "output_type": "stream",
     "text": [
      "\n",
      "Accuracy Score:\n",
      " 0.9873817034700315\n"
     ]
    }
   ],
   "source": [
    "y_pred = clf.predict(X_test)\n",
    "accuracy = accuracy_score(y_test, y_pred)\n",
    "print(\"\\nAccuracy Score:\\n\", accuracy)"
   ]
  },
  {
   "cell_type": "code",
   "execution_count": 72,
   "id": "624fd22f-0ebe-4d82-af91-87a38b2b1267",
   "metadata": {},
   "outputs": [
    {
     "data": {
      "image/png": "[encoded data removed]",
      "text/plain": [
       "<Figure size 600x400 with 1 Axes>"
      ]
     },
     "metadata": {},
     "output_type": "display_data"
    }
   ],
   "source": [
    "plt.figure(figsize=(6, 4))\n",
    "plot_tree(clf, feature_names = X.columns.tolist(), class_names = [\"0\", \"1\"], filled = True, node_ids = True, impurity = True, proportion=True, rounded=True)\n",
    "plt.show()"
   ]
  },
  {
   "cell_type": "markdown",
   "id": "0524e146-d08d-4642-ad76-dd7c81d53c39",
   "metadata": {},
   "source": [
    "### KNN"
   ]
  },
  {
   "cell_type": "code",
   "execution_count": 74,
   "id": "fe691749-2de8-4f2d-a7ec-7b0c6034394c",
   "metadata": {},
   "outputs": [],
   "source": [
    "from sklearn.neighbors import KNeighborsClassifier"
   ]
  },
  {
   "cell_type": "code",
   "execution_count": 75,
   "id": "c6882b73-fa84-4119-a8ed-8150fe34909d",
   "metadata": {},
   "outputs": [
    {
     "name": "stdout",
     "output_type": "stream",
     "text": [
      "   File No  Std deviation  Variance   Maximum   Minimum  Peak-to-Peak  \\\n",
      "0        1       0.012735  0.000162  0.186313 -0.171969      0.358282   \n",
      "1        2       0.007432  0.000055  0.079500 -0.090181      0.169680   \n",
      "2        3       0.007749  0.000060  0.121004 -0.120699      0.241703   \n",
      "3        4       0.008704  0.000076  0.083162 -0.090181      0.173342   \n",
      "4        5       0.010849  0.000118  0.134432 -0.141756      0.276188   \n",
      "\n",
      "   Skewness   Kurtosis  First Quartile  Second Quartile  Third Quartile  \\\n",
      "0 -0.532603  63.053427       -0.002594         0.000153        0.002289   \n",
      "1  0.116528  24.857582       -0.002594        -0.000153        0.002289   \n",
      "2  0.672325  55.858215       -0.002594         0.000153        0.002594   \n",
      "3  1.426517  27.900354       -0.002594        -0.000153        0.002289   \n",
      "4 -0.280880  51.282221       -0.002899         0.000153        0.002289   \n",
      "\n",
      "        RMS  Signal Energy    Entropy  Label  \n",
      "0  0.012735       0.648755  66.006793      1  \n",
      "1  0.007433       0.221009  56.099960      1  \n",
      "2  0.007750       0.240259  59.718305      1  \n",
      "3  0.008705       0.303127  57.966060      1  \n",
      "4  0.010851       0.470934  61.178621      1  \n"
     ]
    }
   ],
   "source": [
    "df = pd.read_csv(r\"C:\\Users\\Sounak Banerjee\\Dataset.csv\")\n",
    "print(df.head())"
   ]
  },
  {
   "cell_type": "code",
   "execution_count": 76,
   "id": "63f18dc8-bd63-40af-a3e9-0dd9418e861d",
   "metadata": {},
   "outputs": [],
   "source": [
    "X = df.drop(columns=['File No', 'Label'])\n",
    "y = df['Label']"
   ]
  },
  {
   "cell_type": "code",
   "execution_count": 77,
   "id": "0ac00238-841d-483b-be24-b0ae203d79cd",
   "metadata": {},
   "outputs": [],
   "source": [
    "X_train, X_test, y_train, y_test = train_test_split(X, y, test_size=0.2, random_state=42)"
   ]
  },
  {
   "cell_type": "code",
   "execution_count": 78,
   "id": "abac6616-21c2-4717-92ce-e4be70d43192",
   "metadata": {},
   "outputs": [],
   "source": [
    "from sklearn.preprocessing import StandardScaler\n",
    "scaler = StandardScaler()\n",
    "X_train_scaled = scaler.fit_transform(X_train)\n",
    "X_test_scaled = scaler.fit_transform(X_test)"
   ]
  },
  {
   "cell_type": "code",
   "execution_count": 79,
   "id": "524ebe5f-446f-4f17-93f8-48fe56e28818",
   "metadata": {},
   "outputs": [],
   "source": [
    "k_values = []\n",
    "accuracies = []\n",
    "\n",
    "for k in range(1, 21):\n",
    "    knn_model = KNeighborsClassifier(n_neighbors=k)\n",
    "    knn_model.fit(X_train_scaled, y_train)\n",
    "    knn_pred = knn_model.predict(X_test_scaled)\n",
    "    knn_accuracy = accuracy_score(y_test, knn_pred)\n",
    "    k_values.append(k)\n",
    "    accuracies.append(knn_accuracy)\n"
   ]
  },
  {
   "cell_type": "code",
   "execution_count": 80,
   "id": "3608769a-078a-4d1a-b2fd-add6596258b6",
   "metadata": {},
   "outputs": [
    {
     "data": {
      "image/png": "[encoded data removed]",
      "text/plain": [
       "<Figure size 640x480 with 1 Axes>"
      ]
     },
     "metadata": {},
     "output_type": "display_data"
    }
   ],
   "source": [
    "plt.plot(k_values, accuracies)\n",
    "plt.title('KNN Accuracy with Different K Values')\n",
    "plt.xlabel('K Value')\n",
    "plt.ylabel('Accuracy')\n",
    "plt.xticks(range(1, 21))\n",
    "plt.show()"
   ]
  },
  {
   "cell_type": "code",
   "execution_count": 82,
   "id": "a535c9e4-9832-45e2-872a-806b4cede2bb",
   "metadata": {},
   "outputs": [
    {
     "name": "stdout",
     "output_type": "stream",
     "text": [
      "\n",
      "Optimal K value: 1\n"
     ]
    }
   ],
   "source": [
    "optimal_k = k_values[accuracies.index(max(accuracies))]\n",
    "print(\"\\nOptimal K value:\", optimal_k)"
   ]
  },
  {
   "cell_type": "markdown",
   "id": "73c0e8d7-3ca4-46f0-ba99-3492b346ea23",
   "metadata": {},
   "source": [
    "### SVM"
   ]
  },
  {
   "cell_type": "code",
   "execution_count": 83,
   "id": "242df137-00a8-43a8-93be-4af5f2087a81",
   "metadata": {},
   "outputs": [],
   "source": [
    "from sklearn.svm import SVC"
   ]
  },
  {
   "cell_type": "code",
   "execution_count": 91,
   "id": "9db75ed9-127c-4b07-a312-4edc5c5170da",
   "metadata": {},
   "outputs": [],
   "source": [
    "X_train_scaled = min_max_scaler.fit_transform(X_train)\n",
    "X_test_scaled = min_max_scaler.fit_transform(X_test)"
   ]
  },
  {
   "cell_type": "code",
   "execution_count": 92,
   "id": "19120531-9b8f-4947-b80e-0efb4f1a18ee",
   "metadata": {},
   "outputs": [],
   "source": [
    "svm_model = SVC()\n",
    "svm_model.fit(X_train_scaled, y_train)\n",
    "svm_pred = svm_model.predict(X_test_scaled)"
   ]
  },
  {
   "cell_type": "code",
   "execution_count": 93,
   "id": "92c22fee-cb40-4702-808b-f283c5d67b07",
   "metadata": {},
   "outputs": [
    {
     "name": "stdout",
     "output_type": "stream",
     "text": [
      "\n",
      "SVM Test Accuracy: 0.9723320158102767\n"
     ]
    }
   ],
   "source": [
    "svm_accuracy = accuracy_score(y_test, svm_pred)\n",
    "print(\"\\nSVM Test Accuracy:\", svm_accuracy)"
   ]
  },
  {
   "cell_type": "code",
   "execution_count": null,
   "id": "18f71c6e-ce82-413f-850e-87f33bd81a75",
   "metadata": {},
   "outputs": [],
   "source": []
  }
 ],
 "metadata": {
  "kernelspec": {
   "display_name": "Python 3 (ipykernel)",
   "language": "python",
   "name": "python3"
  },
  "language_info": {
   "codemirror_mode": {
    "name": "ipython",
    "version": 3
   },
   "file_extension": ".py",
   "mimetype": "text/x-python",
   "name": "python",
   "nbconvert_exporter": "python",
   "pygments_lexer": "ipython3",
   "version": "3.10.7"
  }
 },
 "nbformat": 4,
 "nbformat_minor": 5
}
