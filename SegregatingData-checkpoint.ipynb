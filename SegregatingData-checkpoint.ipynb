{
 "cells": [
  {
   "cell_type": "code",
   "execution_count": 1,
   "id": "3c2e679d-317e-44de-b15f-a823774e2067",
   "metadata": {},
   "outputs": [],
   "source": [
    "import numpy as np\n",
    "import pandas as pd\n",
    "import matplotlib.pyplot as plt\n",
    "from sklearn.model_selection import train_test_split\n",
    "from sklearn.preprocessing import StandardScaler\n",
    "from sklearn.ensemble import RandomForestClassifier\n",
    "from sklearn.metrics import classification_report, confusion_matrix, accuracy_score"
   ]
  },
  {
   "cell_type": "code",
   "execution_count": 4,
   "id": "b0f9af50-a577-49ef-9918-45de9a0ca55d",
   "metadata": {},
   "outputs": [
    {
     "name": "stdout",
     "output_type": "stream",
     "text": [
      "   Sample   AI0 (V)\n",
      "0       0  0.000153\n",
      "1       1 -0.001373\n",
      "2       2  0.000458\n",
      "3       3 -0.001678\n",
      "4       4  0.005951\n"
     ]
    }
   ],
   "source": [
    "data = pd.read_csv(r\"C:\\Users\\Sounak Banerjee\\OneDrive\\Documents\\Measurement Computing\\DAQami\\ND2-25-05-2024\\Analog - 25-05-2024 09-53-45.0861 AM.csv\", skiprows=6)\n",
    "data = data.drop(columns=['Date/Time'])\n",
    "print(data.head())"
   ]
  },
  {
   "cell_type": "code",
   "execution_count": 5,
   "id": "7448417a-abfa-4ff5-a46a-3d218c2a6a57",
   "metadata": {},
   "outputs": [],
   "source": [
    "data.set_index('Sample', inplace=True)\n",
    "chunk_size = 4000\n",
    "for i, start in enumerate(range(0, len(data), chunk_size)):\n",
    "    end = start + chunk_size\n",
    "    chunk = data.iloc[start:end]\n",
    "    chunk.to_csv(f'chunk_{i+778}.csv')"
   ]
  },
  {
   "cell_type": "code",
   "execution_count": null,
   "id": "18d2e7f8-0f0f-4e7b-936d-92b7ac2bfb6a",
   "metadata": {},
   "outputs": [],
   "source": [
    "import pandas as pd\n",
    "import matplotlib.pyplot as plt\n",
    "import os\n",
    "import shutil\n",
    "import time\n",
    "\n",
    "non_event_dir = 'Non-event Data'\n",
    "event_dir = 'Event Data'\n",
    "\n",
    "os.makedirs(event_dir, exist_ok=True)\n",
    "\n",
    "csv_files = [f for f in os.listdir(non_event_dir) if f.endswith('.csv')]\n",
    "\n",
    "for csv_file in csv_files:\n",
    "    file_path = os.path.join(non_event_dir, csv_file)\n",
    "    data = pd.read_csv(file_path)\n",
    "    plt.figure(figsize=(10, 5))\n",
    "    plt.plot(data['Sample'], data['AI0 (V)'], marker='o')\n",
    "    plt.xlabel('Sample')\n",
    "    plt.ylabel('AI0 (V)')\n",
    "    plt.title(f'Amplitude vs Sample for {csv_file}')\n",
    "    plt.tight_layout()\n",
    "    plt.show(block=False)\n",
    "    plt.pause(3)\n",
    "    plt.close()\n",
    "    user_input = input(f\"Press '1' if disturbance has occurred in {csv_file}, otherwise press any other key: \")\n",
    "    if user_input == '1':\n",
    "        shutil.move(file_path, os.path.join(event_dir, csv_file))\n",
    "    plt.clf()\n",
    "    plt.close()\n",
    "\n",
    "print(\"Processing complete.\")"
   ]
  }
 ],
 "metadata": {
  "kernelspec": {
   "display_name": "Python 3 (ipykernel)",
   "language": "python",
   "name": "python3"
  },
  "language_info": {
   "codemirror_mode": {
    "name": "ipython",
    "version": 3
   },
   "file_extension": ".py",
   "mimetype": "text/x-python",
   "name": "python",
   "nbconvert_exporter": "python",
   "pygments_lexer": "ipython3",
   "version": "3.10.7"
  }
 },
 "nbformat": 4,
 "nbformat_minor": 5
}
